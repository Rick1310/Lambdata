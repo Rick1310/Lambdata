{
 "metadata": {
  "language_info": {
   "codemirror_mode": {
    "name": "ipython",
    "version": 3
   },
   "file_extension": ".py",
   "mimetype": "text/x-python",
   "name": "python",
   "nbconvert_exporter": "python",
   "pygments_lexer": "ipython3",
   "version": "3.8.5-final"
  },
  "orig_nbformat": 2,
  "kernelspec": {
   "name": "Python 3.8.5 64-bit ('Lambdata': pipenv)",
   "display_name": "Python 3.8.5 64-bit ('Lambdata': pipenv)",
   "metadata": {
    "interpreter": {
     "hash": "7ea4d55e4b283c9bc876cf7d12b2ea2935bb51e5c5d4e8455e6d9e5c412b2520"
    }
   }
  }
 },
 "nbformat": 4,
 "nbformat_minor": 2,
 "cells": [
  {
   "cell_type": "code",
   "execution_count": 5,
   "metadata": {},
   "outputs": [
    {
     "output_type": "stream",
     "name": "stdout",
     "text": [
      "Looking in indexes: https://test.pypi.org/simple/\nRequirement already satisfied: lambdata-rick1310 in c:\\users\\andrea\\.virtualenvs\\lambdata-fc6uzsuj\\lib\\site-packages (0.0.1)\nRequirement already satisfied: pandas in c:\\users\\andrea\\.virtualenvs\\lambdata-fc6uzsuj\\lib\\site-packages (from lambdata-rick1310) (1.1.0)\nRequirement already satisfied: numpy in c:\\users\\andrea\\.virtualenvs\\lambdata-fc6uzsuj\\lib\\site-packages (from lambdata-rick1310) (1.19.1)\nRequirement already satisfied: pytz>=2017.2 in c:\\users\\andrea\\.virtualenvs\\lambdata-fc6uzsuj\\lib\\site-packages (from pandas->lambdata-rick1310) (2020.1)\nRequirement already satisfied: python-dateutil>=2.7.3 in c:\\users\\andrea\\.virtualenvs\\lambdata-fc6uzsuj\\lib\\site-packages (from pandas->lambdata-rick1310) (2.8.1)\nRequirement already satisfied: six>=1.5 in c:\\users\\andrea\\.virtualenvs\\lambdata-fc6uzsuj\\lib\\site-packages (from python-dateutil>=2.7.3->pandas->lambdata-rick1310) (1.15.0)\n"
     ]
    }
   ],
   "source": [
    "import pandas as pandas\n",
    "import numpy as np\n",
    "\n",
    "!pip install -i https://test.pypi.org/simple/ lambdata-rick1310"
   ]
  }
 ]
}